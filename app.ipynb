{
 "cells": [
  {
   "cell_type": "code",
   "execution_count": 1,
   "metadata": {},
   "outputs": [
    {
     "name": "stderr",
     "output_type": "stream",
     "text": [
      "e:\\Anacoda\\envs\\MMseg\\lib\\site-packages\\tqdm\\auto.py:21: TqdmWarning: IProgress not found. Please update jupyter and ipywidgets. See https://ipywidgets.readthedocs.io/en/stable/user_install.html\n",
      "  from .autonotebook import tqdm as notebook_tqdm\n"
     ]
    },
    {
     "name": "stdout",
     "output_type": "stream",
     "text": [
      "cpu\n",
      "*******load pretrain_model/sam-med2d_b.pth\n"
     ]
    }
   ],
   "source": [
    "import gradio as gr\n",
    "import numpy as np\n",
    "from PIL import Image, ImageDraw, ImageFont\n",
    "import matplotlib.pyplot as plt\n",
    "import cv2\n",
    "from segment_anything import sam_model_registry\n",
    "from segment_anything.predictor_sammed import SammedPredictor\n",
    "from argparse import Namespace\n",
    "import torch\n",
    "import torchvision\n",
    "import os, sys\n",
    "import random\n",
    "import warnings\n",
    "from scipy import ndimage\n",
    "\n",
    "device = \"cpu\" #torch.device(\"cuda\" if torch.cuda.is_available() else \"cpu\")\n",
    "print(device)\n",
    "args = Namespace()\n",
    "args.device = device\n",
    "args.image_size = 256\n",
    "args.encoder_adapter = True\n",
    "args.sam_checkpoint = \"pretrain_model/sam-med2d_b.pth\"  #sam_vit_b.pth  sam-med2d_b.pth\n",
    "def load_model(args):\n",
    "    model = sam_model_registry[\"vit_b\"](args).to(args.device)\n",
    "    model.eval()\n",
    "    predictor = SammedPredictor(model)\n",
    "    return predictor\n",
    "    \n",
    "predictor = load_model(args)"
   ]
  },
  {
   "cell_type": "code",
   "execution_count": 2,
   "metadata": {},
   "outputs": [],
   "source": [
    "\n",
    "def draw_mask(mask, draw, random_color=False):\n",
    "    if random_color:\n",
    "        color = (random.randint(0, 255), random.randint(\n",
    "            0, 255), random.randint(0, 255), 153)\n",
    "    else:\n",
    "        color = (30, 144, 255, 153)\n",
    "\n",
    "    nonzero_coords = np.transpose(np.nonzero(mask))\n",
    "\n",
    "    for coord in nonzero_coords:\n",
    "        draw.point(coord[::-1], fill=color)\n",
    "\n",
    "\n",
    "def draw_point(point, draw, r=10):\n",
    "    show_point = []\n",
    "    for p in point:\n",
    "        x,y = p\n",
    "        draw.ellipse((x-r, y-r, x+r, y+r), fill='green')\n",
    "\n",
    "\n",
    "def run_sammed(input_image, task_type):\n",
    "    # load image\n",
    "    image_pil = input_image[\"image\"].convert(\"RGB\")\n",
    "    image = np.array(image_pil)\n",
    "    predictor.set_image(image)\n",
    "    H,W,_ = image.shape\n",
    "\n",
    "    scribble = np.array(input_image[\"mask\"])\n",
    "    if task_type == 'scribble_point':\n",
    "        scribble = scribble.transpose(2, 1, 0)[0]\n",
    "        labeled_array, num_features = ndimage.label(scribble >= 255)\n",
    "        centers = ndimage.center_of_mass(scribble, labeled_array, range(1, num_features+1))\n",
    "        centers = np.array(centers)\n",
    "        point_coords = centers\n",
    "        point_labels = np.ones(point_coords.shape[0])\n",
    "\n",
    "        \n",
    "        masks, _, _ = predictor.predict(\n",
    "        point_coords=point_coords,\n",
    "        point_labels=point_labels,\n",
    "        mask_input = None,\n",
    "        multimask_output=True \n",
    "        ) \n",
    "\n",
    "        mask_image = Image.new('RGBA', (H,W), color=(0, 0, 0, 0))\n",
    "        mask_draw = ImageDraw.Draw(mask_image)\n",
    "        for mask in masks:\n",
    "            draw_mask(mask, mask_draw, random_color=True)\n",
    "        image_draw = ImageDraw.Draw(image_pil)\n",
    "\n",
    "        draw_point(point_coords,image_draw)\n",
    "\n",
    "        image_pil = image_pil.convert('RGBA')\n",
    "        image_pil.alpha_composite(mask_image)\n",
    "        return [image_pil, mask_image]\n",
    "\n",
    "    else:\n",
    "        print(\"task_type:{} error!\".format(task_type))\n"
   ]
  },
  {
   "cell_type": "code",
   "execution_count": 3,
   "metadata": {},
   "outputs": [
    {
     "name": "stderr",
     "output_type": "stream",
     "text": [
      "C:\\Users\\ChengJunlong\\AppData\\Local\\Temp\\ipykernel_4760\\71331735.py:10: GradioDeprecationWarning: The `style` method is deprecated. Please set these arguments in the constructor instead.\n",
      "  gallery = gr.Gallery(\n",
      "C:\\Users\\ChengJunlong\\AppData\\Local\\Temp\\ipykernel_4760\\71331735.py:10: GradioDeprecationWarning: The 'grid' parameter will be deprecated. Please use 'grid_cols' in the constructor instead.\n",
      "  gallery = gr.Gallery(\n"
     ]
    },
    {
     "name": "stdout",
     "output_type": "stream",
     "text": [
      "Running on local URL:  http://127.0.0.1:7860\n",
      "Running on public URL: https://190277d7a434396ae8.gradio.live\n",
      "\n",
      "This share link expires in 72 hours. For free permanent hosting and GPU upgrades, run `gradio deploy` from Terminal to deploy to Spaces (https://huggingface.co/spaces)\n"
     ]
    },
    {
     "data": {
      "text/html": [
       "<div><iframe src=\"https://190277d7a434396ae8.gradio.live\" width=\"100%\" height=\"500\" allow=\"autoplay; camera; microphone; clipboard-read; clipboard-write;\" frameborder=\"0\" allowfullscreen></iframe></div>"
      ],
      "text/plain": [
       "<IPython.core.display.HTML object>"
      ]
     },
     "metadata": {},
     "output_type": "display_data"
    },
    {
     "name": "stderr",
     "output_type": "stream",
     "text": [
      "Traceback (most recent call last):\n",
      "  File \"e:\\Anacoda\\envs\\MMseg\\lib\\site-packages\\gradio\\routes.py\", line 488, in run_predict\n",
      "    output = await app.get_blocks().process_api(\n",
      "  File \"e:\\Anacoda\\envs\\MMseg\\lib\\site-packages\\gradio\\blocks.py\", line 1431, in process_api\n",
      "    result = await self.call_function(\n",
      "  File \"e:\\Anacoda\\envs\\MMseg\\lib\\site-packages\\gradio\\blocks.py\", line 1109, in call_function\n",
      "    prediction = await anyio.to_thread.run_sync(\n",
      "  File \"e:\\Anacoda\\envs\\MMseg\\lib\\site-packages\\anyio\\to_thread.py\", line 33, in run_sync\n",
      "    return await get_asynclib().run_sync_in_worker_thread(\n",
      "  File \"e:\\Anacoda\\envs\\MMseg\\lib\\site-packages\\anyio\\_backends\\_asyncio.py\", line 877, in run_sync_in_worker_thread\n",
      "    return await future\n",
      "  File \"e:\\Anacoda\\envs\\MMseg\\lib\\site-packages\\anyio\\_backends\\_asyncio.py\", line 807, in run\n",
      "    result = context.run(func, *args)\n",
      "  File \"e:\\Anacoda\\envs\\MMseg\\lib\\site-packages\\gradio\\utils.py\", line 706, in wrapper\n",
      "    response = f(*args, **kwargs)\n",
      "  File \"C:\\Users\\ChengJunlong\\AppData\\Local\\Temp\\ipykernel_4760\\3296478950.py\", line 39, in run_sammed\n",
      "    masks, _, _ = predictor.predict(\n",
      "TypeError: predict() got an unexpected keyword argument 'mask_inputs'\n"
     ]
    }
   ],
   "source": [
    "block = gr.Blocks()\n",
    "block = block.queue()\n",
    "with block:\n",
    "    with gr.Row():\n",
    "        with gr.Column():\n",
    "            input_image = gr.Image(source='upload', type=\"pil\", value=\"Dataset_Demo/images/amos_0507_31.png\", tool=\"sketch\",brush_radius=10)\n",
    "            task_type = gr.Dropdown([\"scribble_point\"], value=\"scribble_point\", label=\"task_type\")\n",
    "            run_button = gr.Button(label=\"Run\")\n",
    "        with gr.Column():\n",
    "            gallery = gr.Gallery(\n",
    "                label=\"Generated images\", show_label=False, elem_id=\"gallery\").style(preview=True, grid=2,object_fit=\"scale-down\")\n",
    "\n",
    "    \n",
    "    with gr.Row():\n",
    "        with gr.Column():\n",
    "            gr.Examples([\"Dataset_Demo/images/amos_0507_31.png\"], inputs=input_image)\n",
    "\n",
    "\n",
    "    run_button.click(fn=run_sammed, inputs=[input_image, task_type], outputs=gallery)\n",
    "\n",
    "block.launch(debug=True, share=True, show_error=True)"
   ]
  }
 ],
 "metadata": {
  "kernelspec": {
   "display_name": "MMseg",
   "language": "python",
   "name": "python3"
  },
  "language_info": {
   "codemirror_mode": {
    "name": "ipython",
    "version": 3
   },
   "file_extension": ".py",
   "mimetype": "text/x-python",
   "name": "python",
   "nbconvert_exporter": "python",
   "pygments_lexer": "ipython3",
   "version": "3.8.0"
  },
  "orig_nbformat": 4
 },
 "nbformat": 4,
 "nbformat_minor": 2
}
